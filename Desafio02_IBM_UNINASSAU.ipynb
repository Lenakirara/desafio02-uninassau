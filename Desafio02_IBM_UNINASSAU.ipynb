{
  "nbformat": 4,
  "nbformat_minor": 0,
  "metadata": {
    "colab": {
      "name": "Desafio02_IBM_UNINASSAU.ipynb",
      "provenance": [],
      "collapsed_sections": [],
      "authorship_tag": "ABX9TyM3ax5Z2ShF/MqEtPqFNXdD",
      "include_colab_link": true
    },
    "kernelspec": {
      "name": "python3",
      "display_name": "Python 3"
    }
  },
  "cells": [
    {
      "cell_type": "markdown",
      "metadata": {
        "id": "view-in-github",
        "colab_type": "text"
      },
      "source": [
        "<a href=\"https://colab.research.google.com/github/Lenakirara/desafio02-uninassau/blob/master/Desafio02_IBM_UNINASSAU.ipynb\" target=\"_parent\"><img src=\"https://colab.research.google.com/assets/colab-badge.svg\" alt=\"Open In Colab\"/></a>"
      ]
    },
    {
      "cell_type": "markdown",
      "metadata": {
        "id": "7IW2CzKBcFVF",
        "colab_type": "text"
      },
      "source": [
        "## Maratona Behind The Code - 2020\n",
        "\n",
        "### Desafio 02 - \n",
        "\n"
      ]
    },
    {
      "cell_type": "code",
      "metadata": {
        "id": "Wm1Z6HpLa0Ma",
        "colab_type": "code",
        "colab": {}
      },
      "source": [
        "# importado biblioteca\n",
        "import pandas as pd"
      ],
      "execution_count": 28,
      "outputs": []
    },
    {
      "cell_type": "code",
      "metadata": {
        "id": "C96jYY9_bHNG",
        "colab_type": "code",
        "colab": {
          "base_uri": "https://localhost:8080/",
          "height": 360
        },
        "outputId": "f8cd7bf6-9ae6-4b16-d859-44b4b7ef7627"
      },
      "source": [
        "# criar e visualizar o dataset\n",
        "df = pd.read_csv('/content/dataset_desafio_2.csv')\n",
        "df.head()"
      ],
      "execution_count": 29,
      "outputs": [
        {
          "output_type": "execute_result",
          "data": {
            "text/html": [
              "<div>\n",
              "<style scoped>\n",
              "    .dataframe tbody tr th:only-of-type {\n",
              "        vertical-align: middle;\n",
              "    }\n",
              "\n",
              "    .dataframe tbody tr th {\n",
              "        vertical-align: top;\n",
              "    }\n",
              "\n",
              "    .dataframe thead th {\n",
              "        text-align: right;\n",
              "    }\n",
              "</style>\n",
              "<table border=\"1\" class=\"dataframe\">\n",
              "  <thead>\n",
              "    <tr style=\"text-align: right;\">\n",
              "      <th></th>\n",
              "      <th>MATRICULA</th>\n",
              "      <th>NOME</th>\n",
              "      <th>REPROVACOES_DE</th>\n",
              "      <th>REPROVACOES_EM</th>\n",
              "      <th>REPROVACOES_MF</th>\n",
              "      <th>REPROVACOES_GO</th>\n",
              "      <th>NOTA_DE</th>\n",
              "      <th>NOTA_EM</th>\n",
              "      <th>NOTA_MF</th>\n",
              "      <th>NOTA_GO</th>\n",
              "      <th>INGLES</th>\n",
              "      <th>H_AULA_PRES</th>\n",
              "      <th>TAREFAS_ONLINE</th>\n",
              "      <th>FALTAS</th>\n",
              "      <th>PERFIL</th>\n",
              "    </tr>\n",
              "  </thead>\n",
              "  <tbody>\n",
              "    <tr>\n",
              "      <th>0</th>\n",
              "      <td>502375</td>\n",
              "      <td>Márcia Illiglener</td>\n",
              "      <td>0</td>\n",
              "      <td>0</td>\n",
              "      <td>0</td>\n",
              "      <td>0</td>\n",
              "      <td>6.2</td>\n",
              "      <td>5.8</td>\n",
              "      <td>4.6</td>\n",
              "      <td>5.9</td>\n",
              "      <td>0.0</td>\n",
              "      <td>2</td>\n",
              "      <td>4</td>\n",
              "      <td>3</td>\n",
              "      <td>EXATAS</td>\n",
              "    </tr>\n",
              "    <tr>\n",
              "      <th>1</th>\n",
              "      <td>397093</td>\n",
              "      <td>Jason Jytereoman Izoimum</td>\n",
              "      <td>0</td>\n",
              "      <td>0</td>\n",
              "      <td>0</td>\n",
              "      <td>0</td>\n",
              "      <td>6.0</td>\n",
              "      <td>6.2</td>\n",
              "      <td>5.2</td>\n",
              "      <td>4.5</td>\n",
              "      <td>1.0</td>\n",
              "      <td>2</td>\n",
              "      <td>4</td>\n",
              "      <td>3</td>\n",
              "      <td>EXATAS</td>\n",
              "    </tr>\n",
              "    <tr>\n",
              "      <th>2</th>\n",
              "      <td>915288</td>\n",
              "      <td>Bartolomeu Inácio da Gama</td>\n",
              "      <td>0</td>\n",
              "      <td>0</td>\n",
              "      <td>0</td>\n",
              "      <td>0</td>\n",
              "      <td>7.3</td>\n",
              "      <td>6.7</td>\n",
              "      <td>7.1</td>\n",
              "      <td>7.2</td>\n",
              "      <td>0.0</td>\n",
              "      <td>5</td>\n",
              "      <td>0</td>\n",
              "      <td>3</td>\n",
              "      <td>HUMANAS</td>\n",
              "    </tr>\n",
              "    <tr>\n",
              "      <th>3</th>\n",
              "      <td>192652</td>\n",
              "      <td>Fernanda Guedes</td>\n",
              "      <td>1</td>\n",
              "      <td>3</td>\n",
              "      <td>1</td>\n",
              "      <td>1</td>\n",
              "      <td>0.0</td>\n",
              "      <td>0.0</td>\n",
              "      <td>0.0</td>\n",
              "      <td>0.0</td>\n",
              "      <td>1.0</td>\n",
              "      <td>4</td>\n",
              "      <td>4</td>\n",
              "      <td>4</td>\n",
              "      <td>DIFICULDADE</td>\n",
              "    </tr>\n",
              "    <tr>\n",
              "      <th>4</th>\n",
              "      <td>949491</td>\n",
              "      <td>Alessandre Borba Gomes</td>\n",
              "      <td>1</td>\n",
              "      <td>3</td>\n",
              "      <td>1</td>\n",
              "      <td>1</td>\n",
              "      <td>0.0</td>\n",
              "      <td>0.0</td>\n",
              "      <td>0.0</td>\n",
              "      <td>0.0</td>\n",
              "      <td>1.0</td>\n",
              "      <td>5</td>\n",
              "      <td>2</td>\n",
              "      <td>5</td>\n",
              "      <td>DIFICULDADE</td>\n",
              "    </tr>\n",
              "  </tbody>\n",
              "</table>\n",
              "</div>"
            ],
            "text/plain": [
              "   MATRICULA                       NOME  ...  FALTAS       PERFIL\n",
              "0     502375          Márcia Illiglener  ...       3       EXATAS\n",
              "1     397093   Jason Jytereoman Izoimum  ...       3       EXATAS\n",
              "2     915288  Bartolomeu Inácio da Gama  ...       3      HUMANAS\n",
              "3     192652            Fernanda Guedes  ...       4  DIFICULDADE\n",
              "4     949491     Alessandre Borba Gomes  ...       5  DIFICULDADE\n",
              "\n",
              "[5 rows x 15 columns]"
            ]
          },
          "metadata": {
            "tags": []
          },
          "execution_count": 29
        }
      ]
    },
    {
      "cell_type": "code",
      "metadata": {
        "id": "hg4DTD-lbraC",
        "colab_type": "code",
        "colab": {
          "base_uri": "https://localhost:8080/",
          "height": 34
        },
        "outputId": "4a73dd09-12a8-4352-c396-de2a9c376009"
      },
      "source": [
        "# visualizar tamanho do dataset\n",
        "df.shape"
      ],
      "execution_count": 30,
      "outputs": [
        {
          "output_type": "execute_result",
          "data": {
            "text/plain": [
              "(20000, 15)"
            ]
          },
          "metadata": {
            "tags": []
          },
          "execution_count": 30
        }
      ]
    },
    {
      "cell_type": "code",
      "metadata": {
        "id": "HAHoWSTPcB9s",
        "colab_type": "code",
        "colab": {
          "base_uri": "https://localhost:8080/",
          "height": 391
        },
        "outputId": "a60bce99-9ede-457f-cbd5-985123621598"
      },
      "source": [
        "# explorando os dados\n",
        "df.info()"
      ],
      "execution_count": 31,
      "outputs": [
        {
          "output_type": "stream",
          "text": [
            "<class 'pandas.core.frame.DataFrame'>\n",
            "RangeIndex: 20000 entries, 0 to 19999\n",
            "Data columns (total 15 columns):\n",
            " #   Column          Non-Null Count  Dtype  \n",
            "---  ------          --------------  -----  \n",
            " 0   MATRICULA       20000 non-null  int64  \n",
            " 1   NOME            20000 non-null  object \n",
            " 2   REPROVACOES_DE  20000 non-null  int64  \n",
            " 3   REPROVACOES_EM  20000 non-null  int64  \n",
            " 4   REPROVACOES_MF  20000 non-null  int64  \n",
            " 5   REPROVACOES_GO  20000 non-null  int64  \n",
            " 6   NOTA_DE         20000 non-null  float64\n",
            " 7   NOTA_EM         20000 non-null  float64\n",
            " 8   NOTA_MF         20000 non-null  float64\n",
            " 9   NOTA_GO         16284 non-null  float64\n",
            " 10  INGLES          16372 non-null  float64\n",
            " 11  H_AULA_PRES     20000 non-null  int64  \n",
            " 12  TAREFAS_ONLINE  20000 non-null  int64  \n",
            " 13  FALTAS          20000 non-null  int64  \n",
            " 14  PERFIL          20000 non-null  object \n",
            "dtypes: float64(5), int64(8), object(2)\n",
            "memory usage: 2.3+ MB\n"
          ],
          "name": "stdout"
        }
      ]
    },
    {
      "cell_type": "code",
      "metadata": {
        "id": "Y4Tjq3EVcwym",
        "colab_type": "code",
        "colab": {
          "base_uri": "https://localhost:8080/",
          "height": 317
        },
        "outputId": "24d4bc66-f843-4b23-e1c0-8738e235fb26"
      },
      "source": [
        "# informação sobre as varáveis\n",
        "df.describe()"
      ],
      "execution_count": 32,
      "outputs": [
        {
          "output_type": "execute_result",
          "data": {
            "text/html": [
              "<div>\n",
              "<style scoped>\n",
              "    .dataframe tbody tr th:only-of-type {\n",
              "        vertical-align: middle;\n",
              "    }\n",
              "\n",
              "    .dataframe tbody tr th {\n",
              "        vertical-align: top;\n",
              "    }\n",
              "\n",
              "    .dataframe thead th {\n",
              "        text-align: right;\n",
              "    }\n",
              "</style>\n",
              "<table border=\"1\" class=\"dataframe\">\n",
              "  <thead>\n",
              "    <tr style=\"text-align: right;\">\n",
              "      <th></th>\n",
              "      <th>MATRICULA</th>\n",
              "      <th>REPROVACOES_DE</th>\n",
              "      <th>REPROVACOES_EM</th>\n",
              "      <th>REPROVACOES_MF</th>\n",
              "      <th>REPROVACOES_GO</th>\n",
              "      <th>NOTA_DE</th>\n",
              "      <th>NOTA_EM</th>\n",
              "      <th>NOTA_MF</th>\n",
              "      <th>NOTA_GO</th>\n",
              "      <th>INGLES</th>\n",
              "      <th>H_AULA_PRES</th>\n",
              "      <th>TAREFAS_ONLINE</th>\n",
              "      <th>FALTAS</th>\n",
              "    </tr>\n",
              "  </thead>\n",
              "  <tbody>\n",
              "    <tr>\n",
              "      <th>count</th>\n",
              "      <td>20000.000000</td>\n",
              "      <td>20000.000000</td>\n",
              "      <td>20000.000000</td>\n",
              "      <td>20000.000000</td>\n",
              "      <td>20000.000000</td>\n",
              "      <td>20000.000000</td>\n",
              "      <td>20000.000000</td>\n",
              "      <td>20000.000000</td>\n",
              "      <td>16284.000000</td>\n",
              "      <td>16372.000000</td>\n",
              "      <td>20000.000000</td>\n",
              "      <td>20000.000000</td>\n",
              "      <td>20000.000000</td>\n",
              "    </tr>\n",
              "    <tr>\n",
              "      <th>mean</th>\n",
              "      <td>551148.271400</td>\n",
              "      <td>0.242850</td>\n",
              "      <td>0.242850</td>\n",
              "      <td>0.297650</td>\n",
              "      <td>0.293350</td>\n",
              "      <td>5.196560</td>\n",
              "      <td>5.080285</td>\n",
              "      <td>4.817630</td>\n",
              "      <td>4.534101</td>\n",
              "      <td>0.646286</td>\n",
              "      <td>5.102950</td>\n",
              "      <td>3.140300</td>\n",
              "      <td>4.060600</td>\n",
              "    </tr>\n",
              "    <tr>\n",
              "      <th>std</th>\n",
              "      <td>259488.766584</td>\n",
              "      <td>0.615055</td>\n",
              "      <td>0.615055</td>\n",
              "      <td>0.672813</td>\n",
              "      <td>0.661829</td>\n",
              "      <td>2.522545</td>\n",
              "      <td>2.523928</td>\n",
              "      <td>2.734775</td>\n",
              "      <td>2.509209</td>\n",
              "      <td>0.478136</td>\n",
              "      <td>4.118422</td>\n",
              "      <td>1.854909</td>\n",
              "      <td>1.674714</td>\n",
              "    </tr>\n",
              "    <tr>\n",
              "      <th>min</th>\n",
              "      <td>100003.000000</td>\n",
              "      <td>0.000000</td>\n",
              "      <td>0.000000</td>\n",
              "      <td>0.000000</td>\n",
              "      <td>0.000000</td>\n",
              "      <td>0.000000</td>\n",
              "      <td>0.000000</td>\n",
              "      <td>0.000000</td>\n",
              "      <td>0.000000</td>\n",
              "      <td>0.000000</td>\n",
              "      <td>0.000000</td>\n",
              "      <td>0.000000</td>\n",
              "      <td>1.000000</td>\n",
              "    </tr>\n",
              "    <tr>\n",
              "      <th>25%</th>\n",
              "      <td>326554.250000</td>\n",
              "      <td>0.000000</td>\n",
              "      <td>0.000000</td>\n",
              "      <td>0.000000</td>\n",
              "      <td>0.000000</td>\n",
              "      <td>5.200000</td>\n",
              "      <td>4.900000</td>\n",
              "      <td>4.700000</td>\n",
              "      <td>4.500000</td>\n",
              "      <td>0.000000</td>\n",
              "      <td>2.000000</td>\n",
              "      <td>2.000000</td>\n",
              "      <td>3.000000</td>\n",
              "    </tr>\n",
              "    <tr>\n",
              "      <th>50%</th>\n",
              "      <td>550630.000000</td>\n",
              "      <td>0.000000</td>\n",
              "      <td>0.000000</td>\n",
              "      <td>0.000000</td>\n",
              "      <td>0.000000</td>\n",
              "      <td>6.200000</td>\n",
              "      <td>5.900000</td>\n",
              "      <td>5.500000</td>\n",
              "      <td>5.400000</td>\n",
              "      <td>1.000000</td>\n",
              "      <td>4.000000</td>\n",
              "      <td>3.000000</td>\n",
              "      <td>4.000000</td>\n",
              "    </tr>\n",
              "    <tr>\n",
              "      <th>75%</th>\n",
              "      <td>775524.750000</td>\n",
              "      <td>0.000000</td>\n",
              "      <td>0.000000</td>\n",
              "      <td>0.000000</td>\n",
              "      <td>0.000000</td>\n",
              "      <td>6.700000</td>\n",
              "      <td>6.700000</td>\n",
              "      <td>6.500000</td>\n",
              "      <td>6.200000</td>\n",
              "      <td>1.000000</td>\n",
              "      <td>6.000000</td>\n",
              "      <td>5.000000</td>\n",
              "      <td>6.000000</td>\n",
              "    </tr>\n",
              "    <tr>\n",
              "      <th>max</th>\n",
              "      <td>999995.000000</td>\n",
              "      <td>3.000000</td>\n",
              "      <td>3.000000</td>\n",
              "      <td>3.000000</td>\n",
              "      <td>3.000000</td>\n",
              "      <td>9.000000</td>\n",
              "      <td>9.400000</td>\n",
              "      <td>11.500000</td>\n",
              "      <td>10.000000</td>\n",
              "      <td>1.000000</td>\n",
              "      <td>25.000000</td>\n",
              "      <td>7.000000</td>\n",
              "      <td>8.000000</td>\n",
              "    </tr>\n",
              "  </tbody>\n",
              "</table>\n",
              "</div>"
            ],
            "text/plain": [
              "           MATRICULA  REPROVACOES_DE  ...  TAREFAS_ONLINE        FALTAS\n",
              "count   20000.000000    20000.000000  ...    20000.000000  20000.000000\n",
              "mean   551148.271400        0.242850  ...        3.140300      4.060600\n",
              "std    259488.766584        0.615055  ...        1.854909      1.674714\n",
              "min    100003.000000        0.000000  ...        0.000000      1.000000\n",
              "25%    326554.250000        0.000000  ...        2.000000      3.000000\n",
              "50%    550630.000000        0.000000  ...        3.000000      4.000000\n",
              "75%    775524.750000        0.000000  ...        5.000000      6.000000\n",
              "max    999995.000000        3.000000  ...        7.000000      8.000000\n",
              "\n",
              "[8 rows x 13 columns]"
            ]
          },
          "metadata": {
            "tags": []
          },
          "execution_count": 32
        }
      ]
    },
    {
      "cell_type": "markdown",
      "metadata": {
        "id": "3TQXUlmkdGKz",
        "colab_type": "text"
      },
      "source": [
        "### Visualizações"
      ]
    },
    {
      "cell_type": "code",
      "metadata": {
        "id": "SumRHRREc6Oy",
        "colab_type": "code",
        "colab": {
          "base_uri": "https://localhost:8080/",
          "height": 71
        },
        "outputId": "cfe67a09-a32c-4582-e7f3-09113ce4bd32"
      },
      "source": [
        "import matplotlib.pyplot as plt\n",
        "import seaborn as sns\n",
        "%matplotlib inline"
      ],
      "execution_count": 7,
      "outputs": [
        {
          "output_type": "stream",
          "text": [
            "/usr/local/lib/python3.6/dist-packages/statsmodels/tools/_testing.py:19: FutureWarning: pandas.util.testing is deprecated. Use the functions in the public API at pandas.testing instead.\n",
            "  import pandas.util.testing as tm\n"
          ],
          "name": "stderr"
        }
      ]
    },
    {
      "cell_type": "code",
      "metadata": {
        "id": "U5mm0ZYEdOr7",
        "colab_type": "code",
        "colab": {
          "base_uri": "https://localhost:8080/",
          "height": 119
        },
        "outputId": "6b6d62ca-b439-478d-99fc-245f5ae2f72b"
      },
      "source": [
        "fig, axes = plt.subplots(nrows=1, ncols=4, figsize=(28, 4))\n",
        "\n",
        "sns.countplot(ax=axes[0], x='REPROVACOES_DE', data=df)\n",
        "sns.countplot(ax=axes[1], x='REPROVACOES_EM', data=df)\n",
        "sns.countplot(ax=axes[2], x='REPROVACOES_MF', data=df)\n",
        "sns.countplot(ax=axes[3], x='REPROVACOES_GO', data=df);"
      ],
      "execution_count": 33,
      "outputs": [
        {
          "output_type": "display_data",
          "data": {
            "image/png": "[encoded data removed]",
            "text/plain": [
              "<Figure size 2016x288 with 4 Axes>"
            ]
          },
          "metadata": {
            "tags": [],
            "needs_background": "light"
          }
        }
      ]
    },
    {
      "cell_type": "code",
      "metadata": {
        "id": "dQhDZLDRdRdE",
        "colab_type": "code",
        "colab": {
          "base_uri": "https://localhost:8080/",
          "height": 122
        },
        "outputId": "ea66d275-d140-4c03-d928-6867f9952c86"
      },
      "source": [
        "fig, axes = plt.subplots(nrows=1, ncols=4, figsize=(28, 4))\n",
        "\n",
        "sns.distplot(df['NOTA_DE'], ax=axes[0])\n",
        "sns.distplot(df['NOTA_EM'], ax=axes[1])\n",
        "sns.distplot(df['NOTA_MF'], ax=axes[2])\n",
        "sns.distplot(df['NOTA_GO'].dropna(), ax=axes[3]);"
      ],
      "execution_count": 34,
      "outputs": [
        {
          "output_type": "display_data",
          "data": {
            "image/png": "[encoded data removed]",
            "text/plain": [
              "<Figure size 2016x288 with 4 Axes>"
            ]
          },
          "metadata": {
            "tags": [],
            "needs_background": "light"
          }
        }
      ]
    },
    {
      "cell_type": "code",
      "metadata": {
        "id": "_DtLIc4Xdbz2",
        "colab_type": "code",
        "colab": {
          "base_uri": "https://localhost:8080/",
          "height": 119
        },
        "outputId": "153ddf7e-0910-494d-9ff7-43be2eae958e"
      },
      "source": [
        "fig, axes = plt.subplots(nrows=1, ncols=4, figsize=(28, 4))\n",
        "\n",
        "sns.countplot(ax=axes[0], x='INGLES', data=df)\n",
        "sns.countplot(ax=axes[1], x='FALTAS', data=df)\n",
        "sns.countplot(ax=axes[2], x='H_AULA_PRES', data=df)\n",
        "sns.countplot(ax=axes[3], x='TAREFAS_ONLINE', data=df);"
      ],
      "execution_count": 35,
      "outputs": [
        {
          "output_type": "display_data",
          "data": {
            "image/png": "[encoded data removed]",
            "text/plain": [
              "<Figure size 2016x288 with 4 Axes>"
            ]
          },
          "metadata": {
            "tags": [],
            "needs_background": "light"
          }
        }
      ]
    },
    {
      "cell_type": "code",
      "metadata": {
        "id": "VP7U5DUbdj52",
        "colab_type": "code",
        "colab": {
          "base_uri": "https://localhost:8080/",
          "height": 280
        },
        "outputId": "3c54ac69-43c6-44c1-ed80-3bfc39c25916"
      },
      "source": [
        "fig = plt.plot()\n",
        "sns.countplot(x='PERFIL', data=df);"
      ],
      "execution_count": 36,
      "outputs": [
        {
          "output_type": "display_data",
          "data": {
            "image/png": "[encoded data removed]",
            "text/plain": [
              "<Figure size 432x288 with 1 Axes>"
            ]
          },
          "metadata": {
            "tags": [],
            "needs_background": "light"
          }
        }
      ]
    },
    {
      "cell_type": "code",
      "metadata": {
        "id": "w8NIb-ATdrJ2",
        "colab_type": "code",
        "colab": {
          "base_uri": "https://localhost:8080/",
          "height": 240
        },
        "outputId": "be622720-d23d-4cf1-9832-30dad03a5919"
      },
      "source": [
        "plt.figure(figsize=(18, 6))\n",
        "ax = sns.boxplot(x=df['PERFIL'], y=df['NOTA_DE'])"
      ],
      "execution_count": 37,
      "outputs": [
        {
          "output_type": "display_data",
          "data": {
            "image/png": "[encoded data removed]",
            "text/plain": [
              "<Figure size 1296x432 with 1 Axes>"
            ]
          },
          "metadata": {
            "tags": [],
            "needs_background": "light"
          }
        }
      ]
    },
    {
      "cell_type": "code",
      "metadata": {
        "id": "4rRhV-Zpd7vT",
        "colab_type": "code",
        "colab": {
          "base_uri": "https://localhost:8080/",
          "height": 240
        },
        "outputId": "b37f700e-d59f-4be8-d580-c60f678f4d02"
      },
      "source": [
        "plt.figure(figsize=(18, 6))\n",
        "ax = sns.boxplot(x=df['PERFIL'], y=df['NOTA_EM'])"
      ],
      "execution_count": 39,
      "outputs": [
        {
          "output_type": "display_data",
          "data": {
            "image/png": "[encoded data removed]",
            "text/plain": [
              "<Figure size 1296x432 with 1 Axes>"
            ]
          },
          "metadata": {
            "tags": [],
            "needs_background": "light"
          }
        }
      ]
    },
    {
      "cell_type": "code",
      "metadata": {
        "id": "iud9o_2neCvD",
        "colab_type": "code",
        "colab": {
          "base_uri": "https://localhost:8080/",
          "height": 240
        },
        "outputId": "470988b0-a6d9-4f7a-d217-35c9df0d39cd"
      },
      "source": [
        "plt.figure(figsize=(18, 6))\n",
        "ax = sns.boxplot(x=df['PERFIL'], y=df['NOTA_MF'])"
      ],
      "execution_count": 40,
      "outputs": [
        {
          "output_type": "display_data",
          "data": {
            "image/png": "[encoded data removed]",
            "text/plain": [
              "<Figure size 1296x432 with 1 Axes>"
            ]
          },
          "metadata": {
            "tags": [],
            "needs_background": "light"
          }
        }
      ]
    },
    {
      "cell_type": "code",
      "metadata": {
        "id": "uQEAj88ieHBG",
        "colab_type": "code",
        "colab": {
          "base_uri": "https://localhost:8080/",
          "height": 239
        },
        "outputId": "b2a7eae4-980f-41f1-c127-30ed684eafb8"
      },
      "source": [
        "plt.figure(figsize=(18, 6))\n",
        "ax = sns.boxplot(x=df['PERFIL'], y=df['NOTA_GO'])"
      ],
      "execution_count": 41,
      "outputs": [
        {
          "output_type": "display_data",
          "data": {
            "image/png": "[encoded data removed]",
            "text/plain": [
              "<Figure size 1296x432 with 1 Axes>"
            ]
          },
          "metadata": {
            "tags": [],
            "needs_background": "light"
          }
        }
      ]
    },
    {
      "cell_type": "markdown",
      "metadata": {
        "id": "NGyL6psMeNEX",
        "colab_type": "text"
      },
      "source": [
        "### Pré-processando os dados"
      ]
    },
    {
      "cell_type": "code",
      "metadata": {
        "id": "2oXF8TaQeKeW",
        "colab_type": "code",
        "colab": {
          "base_uri": "https://localhost:8080/",
          "height": 224
        },
        "outputId": "37563fbd-7991-41b7-ba28-527bfb38fe4b"
      },
      "source": [
        "# excluir coluna nome\n",
        "df.drop(['NOME'], axis=1, inplace=True)\n",
        "df.head()"
      ],
      "execution_count": 42,
      "outputs": [
        {
          "output_type": "execute_result",
          "data": {
            "text/html": [
              "<div>\n",
              "<style scoped>\n",
              "    .dataframe tbody tr th:only-of-type {\n",
              "        vertical-align: middle;\n",
              "    }\n",
              "\n",
              "    .dataframe tbody tr th {\n",
              "        vertical-align: top;\n",
              "    }\n",
              "\n",
              "    .dataframe thead th {\n",
              "        text-align: right;\n",
              "    }\n",
              "</style>\n",
              "<table border=\"1\" class=\"dataframe\">\n",
              "  <thead>\n",
              "    <tr style=\"text-align: right;\">\n",
              "      <th></th>\n",
              "      <th>MATRICULA</th>\n",
              "      <th>REPROVACOES_DE</th>\n",
              "      <th>REPROVACOES_EM</th>\n",
              "      <th>REPROVACOES_MF</th>\n",
              "      <th>REPROVACOES_GO</th>\n",
              "      <th>NOTA_DE</th>\n",
              "      <th>NOTA_EM</th>\n",
              "      <th>NOTA_MF</th>\n",
              "      <th>NOTA_GO</th>\n",
              "      <th>INGLES</th>\n",
              "      <th>H_AULA_PRES</th>\n",
              "      <th>TAREFAS_ONLINE</th>\n",
              "      <th>FALTAS</th>\n",
              "      <th>PERFIL</th>\n",
              "    </tr>\n",
              "  </thead>\n",
              "  <tbody>\n",
              "    <tr>\n",
              "      <th>0</th>\n",
              "      <td>502375</td>\n",
              "      <td>0</td>\n",
              "      <td>0</td>\n",
              "      <td>0</td>\n",
              "      <td>0</td>\n",
              "      <td>6.2</td>\n",
              "      <td>5.8</td>\n",
              "      <td>4.6</td>\n",
              "      <td>5.9</td>\n",
              "      <td>0.0</td>\n",
              "      <td>2</td>\n",
              "      <td>4</td>\n",
              "      <td>3</td>\n",
              "      <td>EXATAS</td>\n",
              "    </tr>\n",
              "    <tr>\n",
              "      <th>1</th>\n",
              "      <td>397093</td>\n",
              "      <td>0</td>\n",
              "      <td>0</td>\n",
              "      <td>0</td>\n",
              "      <td>0</td>\n",
              "      <td>6.0</td>\n",
              "      <td>6.2</td>\n",
              "      <td>5.2</td>\n",
              "      <td>4.5</td>\n",
              "      <td>1.0</td>\n",
              "      <td>2</td>\n",
              "      <td>4</td>\n",
              "      <td>3</td>\n",
              "      <td>EXATAS</td>\n",
              "    </tr>\n",
              "    <tr>\n",
              "      <th>2</th>\n",
              "      <td>915288</td>\n",
              "      <td>0</td>\n",
              "      <td>0</td>\n",
              "      <td>0</td>\n",
              "      <td>0</td>\n",
              "      <td>7.3</td>\n",
              "      <td>6.7</td>\n",
              "      <td>7.1</td>\n",
              "      <td>7.2</td>\n",
              "      <td>0.0</td>\n",
              "      <td>5</td>\n",
              "      <td>0</td>\n",
              "      <td>3</td>\n",
              "      <td>HUMANAS</td>\n",
              "    </tr>\n",
              "    <tr>\n",
              "      <th>3</th>\n",
              "      <td>192652</td>\n",
              "      <td>1</td>\n",
              "      <td>3</td>\n",
              "      <td>1</td>\n",
              "      <td>1</td>\n",
              "      <td>0.0</td>\n",
              "      <td>0.0</td>\n",
              "      <td>0.0</td>\n",
              "      <td>0.0</td>\n",
              "      <td>1.0</td>\n",
              "      <td>4</td>\n",
              "      <td>4</td>\n",
              "      <td>4</td>\n",
              "      <td>DIFICULDADE</td>\n",
              "    </tr>\n",
              "    <tr>\n",
              "      <th>4</th>\n",
              "      <td>949491</td>\n",
              "      <td>1</td>\n",
              "      <td>3</td>\n",
              "      <td>1</td>\n",
              "      <td>1</td>\n",
              "      <td>0.0</td>\n",
              "      <td>0.0</td>\n",
              "      <td>0.0</td>\n",
              "      <td>0.0</td>\n",
              "      <td>1.0</td>\n",
              "      <td>5</td>\n",
              "      <td>2</td>\n",
              "      <td>5</td>\n",
              "      <td>DIFICULDADE</td>\n",
              "    </tr>\n",
              "  </tbody>\n",
              "</table>\n",
              "</div>"
            ],
            "text/plain": [
              "   MATRICULA  REPROVACOES_DE  ...  FALTAS       PERFIL\n",
              "0     502375               0  ...       3       EXATAS\n",
              "1     397093               0  ...       3       EXATAS\n",
              "2     915288               0  ...       3      HUMANAS\n",
              "3     192652               1  ...       4  DIFICULDADE\n",
              "4     949491               1  ...       5  DIFICULDADE\n",
              "\n",
              "[5 rows x 14 columns]"
            ]
          },
          "metadata": {
            "tags": []
          },
          "execution_count": 42
        }
      ]
    },
    {
      "cell_type": "code",
      "metadata": {
        "id": "BroOmciUehEY",
        "colab_type": "code",
        "colab": {}
      },
      "source": [
        "# excluir coluna matricula\n",
        "df.set_index('MATRICULA', inplace=True)"
      ],
      "execution_count": 43,
      "outputs": []
    },
    {
      "cell_type": "code",
      "metadata": {
        "id": "6h03ujBze7mv",
        "colab_type": "code",
        "colab": {
          "base_uri": "https://localhost:8080/",
          "height": 85
        },
        "outputId": "535464fa-27f7-4c5c-c0f8-2cbe8a23cf1f"
      },
      "source": [
        "df.columns"
      ],
      "execution_count": 44,
      "outputs": [
        {
          "output_type": "execute_result",
          "data": {
            "text/plain": [
              "Index(['REPROVACOES_DE', 'REPROVACOES_EM', 'REPROVACOES_MF', 'REPROVACOES_GO',\n",
              "       'NOTA_DE', 'NOTA_EM', 'NOTA_MF', 'NOTA_GO', 'INGLES', 'H_AULA_PRES',\n",
              "       'TAREFAS_ONLINE', 'FALTAS', 'PERFIL'],\n",
              "      dtype='object')"
            ]
          },
          "metadata": {
            "tags": []
          },
          "execution_count": 44
        }
      ]
    },
    {
      "cell_type": "code",
      "metadata": {
        "id": "STNgNWqAe9-e",
        "colab_type": "code",
        "colab": {
          "base_uri": "https://localhost:8080/",
          "height": 255
        },
        "outputId": "4f52f106-45b2-4953-bae5-3789e9bb7035"
      },
      "source": [
        "# verificando dados nulos\n",
        "df.isnull().sum()"
      ],
      "execution_count": 45,
      "outputs": [
        {
          "output_type": "execute_result",
          "data": {
            "text/plain": [
              "REPROVACOES_DE       0\n",
              "REPROVACOES_EM       0\n",
              "REPROVACOES_MF       0\n",
              "REPROVACOES_GO       0\n",
              "NOTA_DE              0\n",
              "NOTA_EM              0\n",
              "NOTA_MF              0\n",
              "NOTA_GO           3716\n",
              "INGLES            3628\n",
              "H_AULA_PRES          0\n",
              "TAREFAS_ONLINE       0\n",
              "FALTAS               0\n",
              "PERFIL               0\n",
              "dtype: int64"
            ]
          },
          "metadata": {
            "tags": []
          },
          "execution_count": 45
        }
      ]
    },
    {
      "cell_type": "code",
      "metadata": {
        "id": "Fr2lo7jrfQwc",
        "colab_type": "code",
        "colab": {
          "base_uri": "https://localhost:8080/",
          "height": 119
        },
        "outputId": "519b5961-7d2a-492e-f56b-75eb564e6dda"
      },
      "source": [
        "df['NOTA_GO'].unique()"
      ],
      "execution_count": 46,
      "outputs": [
        {
          "output_type": "execute_result",
          "data": {
            "text/plain": [
              "array([ 5.9,  4.5,  7.2,  0. ,  6.5,  5.1,  4.6,  5.5,  6. ,  nan,  4.7,\n",
              "        5.3,  5.6,  5.8,  7. ,  8.5,  6.3,  5.2,  4.3,  6.2,  5.4,  6.4,\n",
              "        7.5,  4.8,  5. ,  5.7,  7.6,  4.4,  7.8,  7.1,  7.9,  4.9,  6.1,\n",
              "        8. ,  6.6,  7.7,  7.3,  6.7,  8.1,  4.2,  6.8,  6.9,  8.2,  7.4,\n",
              "        4.1,  9.5,  9.1,  8.8,  8.3,  9.2,  8.6,  9.6,  8.7,  8.4,  9.4,\n",
              "        8.9, 10. ])"
            ]
          },
          "metadata": {
            "tags": []
          },
          "execution_count": 46
        }
      ]
    },
    {
      "cell_type": "code",
      "metadata": {
        "id": "Z_ytfO2CgYDR",
        "colab_type": "code",
        "colab": {
          "base_uri": "https://localhost:8080/",
          "height": 34
        },
        "outputId": "d5182e26-4cbc-4cf2-d356-5901a05ecc73"
      },
      "source": [
        "df['INGLES'].unique()"
      ],
      "execution_count": 47,
      "outputs": [
        {
          "output_type": "execute_result",
          "data": {
            "text/plain": [
              "array([ 0.,  1., nan])"
            ]
          },
          "metadata": {
            "tags": []
          },
          "execution_count": 47
        }
      ]
    },
    {
      "cell_type": "code",
      "metadata": {
        "id": "CtvzVn3AgeDd",
        "colab_type": "code",
        "colab": {}
      },
      "source": [
        "# substituindo valores nulos por zero\n",
        "df['NOTA_GO'].fillna(0, inplace=True)"
      ],
      "execution_count": 48,
      "outputs": []
    },
    {
      "cell_type": "code",
      "metadata": {
        "id": "C_UQyiRwipLm",
        "colab_type": "code",
        "colab": {}
      },
      "source": [
        "df['INGLES'].fillna(0, inplace=True)"
      ],
      "execution_count": 49,
      "outputs": []
    },
    {
      "cell_type": "code",
      "metadata": {
        "id": "qootZfT0ixHq",
        "colab_type": "code",
        "colab": {
          "base_uri": "https://localhost:8080/",
          "height": 255
        },
        "outputId": "5c0c7adf-f173-4899-fb95-1238e6a34656"
      },
      "source": [
        "df.isnull().sum()"
      ],
      "execution_count": 50,
      "outputs": [
        {
          "output_type": "execute_result",
          "data": {
            "text/plain": [
              "REPROVACOES_DE    0\n",
              "REPROVACOES_EM    0\n",
              "REPROVACOES_MF    0\n",
              "REPROVACOES_GO    0\n",
              "NOTA_DE           0\n",
              "NOTA_EM           0\n",
              "NOTA_MF           0\n",
              "NOTA_GO           0\n",
              "INGLES            0\n",
              "H_AULA_PRES       0\n",
              "TAREFAS_ONLINE    0\n",
              "FALTAS            0\n",
              "PERFIL            0\n",
              "dtype: int64"
            ]
          },
          "metadata": {
            "tags": []
          },
          "execution_count": 50
        }
      ]
    },
    {
      "cell_type": "markdown",
      "metadata": {
        "id": "5uiTqwtli-mZ",
        "colab_type": "text"
      },
      "source": [
        "### Verificando correlações"
      ]
    },
    {
      "cell_type": "code",
      "metadata": {
        "id": "-ky37j0sizxh",
        "colab_type": "code",
        "colab": {
          "base_uri": "https://localhost:8080/",
          "height": 441
        },
        "outputId": "5f874500-a59c-48ec-fb3a-e86111f98755"
      },
      "source": [
        "df.corr()"
      ],
      "execution_count": 51,
      "outputs": [
        {
          "output_type": "execute_result",
          "data": {
            "text/html": [
              "<div>\n",
              "<style scoped>\n",
              "    .dataframe tbody tr th:only-of-type {\n",
              "        vertical-align: middle;\n",
              "    }\n",
              "\n",
              "    .dataframe tbody tr th {\n",
              "        vertical-align: top;\n",
              "    }\n",
              "\n",
              "    .dataframe thead th {\n",
              "        text-align: right;\n",
              "    }\n",
              "</style>\n",
              "<table border=\"1\" class=\"dataframe\">\n",
              "  <thead>\n",
              "    <tr style=\"text-align: right;\">\n",
              "      <th></th>\n",
              "      <th>REPROVACOES_DE</th>\n",
              "      <th>REPROVACOES_EM</th>\n",
              "      <th>REPROVACOES_MF</th>\n",
              "      <th>REPROVACOES_GO</th>\n",
              "      <th>NOTA_DE</th>\n",
              "      <th>NOTA_EM</th>\n",
              "      <th>NOTA_MF</th>\n",
              "      <th>NOTA_GO</th>\n",
              "      <th>INGLES</th>\n",
              "      <th>H_AULA_PRES</th>\n",
              "      <th>TAREFAS_ONLINE</th>\n",
              "      <th>FALTAS</th>\n",
              "    </tr>\n",
              "  </thead>\n",
              "  <tbody>\n",
              "    <tr>\n",
              "      <th>REPROVACOES_DE</th>\n",
              "      <td>1.000000</td>\n",
              "      <td>0.718194</td>\n",
              "      <td>0.627279</td>\n",
              "      <td>0.635341</td>\n",
              "      <td>-0.813435</td>\n",
              "      <td>-0.794798</td>\n",
              "      <td>-0.692948</td>\n",
              "      <td>-0.505531</td>\n",
              "      <td>0.051043</td>\n",
              "      <td>-0.055391</td>\n",
              "      <td>-0.085484</td>\n",
              "      <td>0.094888</td>\n",
              "    </tr>\n",
              "    <tr>\n",
              "      <th>REPROVACOES_EM</th>\n",
              "      <td>0.718194</td>\n",
              "      <td>1.000000</td>\n",
              "      <td>0.630179</td>\n",
              "      <td>0.626988</td>\n",
              "      <td>-0.813435</td>\n",
              "      <td>-0.794798</td>\n",
              "      <td>-0.692389</td>\n",
              "      <td>-0.504863</td>\n",
              "      <td>0.054626</td>\n",
              "      <td>-0.065024</td>\n",
              "      <td>-0.086449</td>\n",
              "      <td>0.097509</td>\n",
              "    </tr>\n",
              "    <tr>\n",
              "      <th>REPROVACOES_MF</th>\n",
              "      <td>0.627279</td>\n",
              "      <td>0.630179</td>\n",
              "      <td>1.000000</td>\n",
              "      <td>0.716056</td>\n",
              "      <td>-0.724459</td>\n",
              "      <td>-0.713168</td>\n",
              "      <td>-0.779373</td>\n",
              "      <td>-0.569098</td>\n",
              "      <td>0.056512</td>\n",
              "      <td>-0.064817</td>\n",
              "      <td>-0.090557</td>\n",
              "      <td>0.102211</td>\n",
              "    </tr>\n",
              "    <tr>\n",
              "      <th>REPROVACOES_GO</th>\n",
              "      <td>0.635341</td>\n",
              "      <td>0.626988</td>\n",
              "      <td>0.716056</td>\n",
              "      <td>1.000000</td>\n",
              "      <td>-0.723049</td>\n",
              "      <td>-0.713200</td>\n",
              "      <td>-0.780861</td>\n",
              "      <td>-0.570185</td>\n",
              "      <td>0.062217</td>\n",
              "      <td>-0.069179</td>\n",
              "      <td>-0.090917</td>\n",
              "      <td>0.107030</td>\n",
              "    </tr>\n",
              "    <tr>\n",
              "      <th>NOTA_DE</th>\n",
              "      <td>-0.813435</td>\n",
              "      <td>-0.813435</td>\n",
              "      <td>-0.724459</td>\n",
              "      <td>-0.723049</td>\n",
              "      <td>1.000000</td>\n",
              "      <td>0.969557</td>\n",
              "      <td>0.850942</td>\n",
              "      <td>0.616871</td>\n",
              "      <td>-0.088479</td>\n",
              "      <td>0.157820</td>\n",
              "      <td>0.158549</td>\n",
              "      <td>-0.176007</td>\n",
              "    </tr>\n",
              "    <tr>\n",
              "      <th>NOTA_EM</th>\n",
              "      <td>-0.794798</td>\n",
              "      <td>-0.794798</td>\n",
              "      <td>-0.713168</td>\n",
              "      <td>-0.713200</td>\n",
              "      <td>0.969557</td>\n",
              "      <td>1.000000</td>\n",
              "      <td>0.853037</td>\n",
              "      <td>0.617740</td>\n",
              "      <td>-0.094368</td>\n",
              "      <td>0.175144</td>\n",
              "      <td>0.167702</td>\n",
              "      <td>-0.178978</td>\n",
              "    </tr>\n",
              "    <tr>\n",
              "      <th>NOTA_MF</th>\n",
              "      <td>-0.692948</td>\n",
              "      <td>-0.692389</td>\n",
              "      <td>-0.779373</td>\n",
              "      <td>-0.780861</td>\n",
              "      <td>0.850942</td>\n",
              "      <td>0.853037</td>\n",
              "      <td>1.000000</td>\n",
              "      <td>0.677018</td>\n",
              "      <td>-0.105793</td>\n",
              "      <td>0.213406</td>\n",
              "      <td>0.186934</td>\n",
              "      <td>-0.200538</td>\n",
              "    </tr>\n",
              "    <tr>\n",
              "      <th>NOTA_GO</th>\n",
              "      <td>-0.505531</td>\n",
              "      <td>-0.504863</td>\n",
              "      <td>-0.569098</td>\n",
              "      <td>-0.570185</td>\n",
              "      <td>0.616871</td>\n",
              "      <td>0.617740</td>\n",
              "      <td>0.677018</td>\n",
              "      <td>1.000000</td>\n",
              "      <td>-0.063854</td>\n",
              "      <td>0.130623</td>\n",
              "      <td>0.122821</td>\n",
              "      <td>-0.125647</td>\n",
              "    </tr>\n",
              "    <tr>\n",
              "      <th>INGLES</th>\n",
              "      <td>0.051043</td>\n",
              "      <td>0.054626</td>\n",
              "      <td>0.056512</td>\n",
              "      <td>0.062217</td>\n",
              "      <td>-0.088479</td>\n",
              "      <td>-0.094368</td>\n",
              "      <td>-0.105793</td>\n",
              "      <td>-0.063854</td>\n",
              "      <td>1.000000</td>\n",
              "      <td>-0.132397</td>\n",
              "      <td>-0.118134</td>\n",
              "      <td>0.110464</td>\n",
              "    </tr>\n",
              "    <tr>\n",
              "      <th>H_AULA_PRES</th>\n",
              "      <td>-0.055391</td>\n",
              "      <td>-0.065024</td>\n",
              "      <td>-0.064817</td>\n",
              "      <td>-0.069179</td>\n",
              "      <td>0.157820</td>\n",
              "      <td>0.175144</td>\n",
              "      <td>0.213406</td>\n",
              "      <td>0.130623</td>\n",
              "      <td>-0.132397</td>\n",
              "      <td>1.000000</td>\n",
              "      <td>0.349416</td>\n",
              "      <td>-0.349608</td>\n",
              "    </tr>\n",
              "    <tr>\n",
              "      <th>TAREFAS_ONLINE</th>\n",
              "      <td>-0.085484</td>\n",
              "      <td>-0.086449</td>\n",
              "      <td>-0.090557</td>\n",
              "      <td>-0.090917</td>\n",
              "      <td>0.158549</td>\n",
              "      <td>0.167702</td>\n",
              "      <td>0.186934</td>\n",
              "      <td>0.122821</td>\n",
              "      <td>-0.118134</td>\n",
              "      <td>0.349416</td>\n",
              "      <td>1.000000</td>\n",
              "      <td>-0.454353</td>\n",
              "    </tr>\n",
              "    <tr>\n",
              "      <th>FALTAS</th>\n",
              "      <td>0.094888</td>\n",
              "      <td>0.097509</td>\n",
              "      <td>0.102211</td>\n",
              "      <td>0.107030</td>\n",
              "      <td>-0.176007</td>\n",
              "      <td>-0.178978</td>\n",
              "      <td>-0.200538</td>\n",
              "      <td>-0.125647</td>\n",
              "      <td>0.110464</td>\n",
              "      <td>-0.349608</td>\n",
              "      <td>-0.454353</td>\n",
              "      <td>1.000000</td>\n",
              "    </tr>\n",
              "  </tbody>\n",
              "</table>\n",
              "</div>"
            ],
            "text/plain": [
              "                REPROVACOES_DE  REPROVACOES_EM  ...  TAREFAS_ONLINE    FALTAS\n",
              "REPROVACOES_DE        1.000000        0.718194  ...       -0.085484  0.094888\n",
              "REPROVACOES_EM        0.718194        1.000000  ...       -0.086449  0.097509\n",
              "REPROVACOES_MF        0.627279        0.630179  ...       -0.090557  0.102211\n",
              "REPROVACOES_GO        0.635341        0.626988  ...       -0.090917  0.107030\n",
              "NOTA_DE              -0.813435       -0.813435  ...        0.158549 -0.176007\n",
              "NOTA_EM              -0.794798       -0.794798  ...        0.167702 -0.178978\n",
              "NOTA_MF              -0.692948       -0.692389  ...        0.186934 -0.200538\n",
              "NOTA_GO              -0.505531       -0.504863  ...        0.122821 -0.125647\n",
              "INGLES                0.051043        0.054626  ...       -0.118134  0.110464\n",
              "H_AULA_PRES          -0.055391       -0.065024  ...        0.349416 -0.349608\n",
              "TAREFAS_ONLINE       -0.085484       -0.086449  ...        1.000000 -0.454353\n",
              "FALTAS                0.094888        0.097509  ...       -0.454353  1.000000\n",
              "\n",
              "[12 rows x 12 columns]"
            ]
          },
          "metadata": {
            "tags": []
          },
          "execution_count": 51
        }
      ]
    },
    {
      "cell_type": "code",
      "metadata": {
        "id": "QqYBjBhnjFyw",
        "colab_type": "code",
        "colab": {
          "base_uri": "https://localhost:8080/",
          "height": 390
        },
        "outputId": "91ee9d7d-e95c-4570-b146-002159f4907c"
      },
      "source": [
        "plt.figure(figsize=(16, 8))\n",
        "corr = df.corr()\n",
        "\n",
        "sns.heatmap(df. corr(), annot=True, linewidths=0.5)\n",
        "plt.xticks(rotation=90)\n",
        "plt.show()"
      ],
      "execution_count": 52,
      "outputs": [
        {
          "output_type": "display_data",
          "data": {
            "image/png": "[encoded data removed]",
            "text/plain": [
              "<Figure size 1152x576 with 2 Axes>"
            ]
          },
          "metadata": {
            "tags": [],
            "needs_background": "light"
          }
        }
      ]
    },
    {
      "cell_type": "code",
      "metadata": {
        "id": "ITjlDbsejPMP",
        "colab_type": "code",
        "colab": {}
      },
      "source": [
        ""
      ],
      "execution_count": null,
      "outputs": []
    },
    {
      "cell_type": "markdown",
      "metadata": {
        "id": "LToWx3EEjSJa",
        "colab_type": "text"
      },
      "source": [
        "### Treinando o modelo"
      ]
    },
    {
      "cell_type": "code",
      "metadata": {
        "id": "9yLEdRKajUdG",
        "colab_type": "code",
        "colab": {}
      },
      "source": [
        "df_02 = df.copy()"
      ],
      "execution_count": 55,
      "outputs": []
    },
    {
      "cell_type": "code",
      "metadata": {
        "id": "KfPRdUi8j9yA",
        "colab_type": "code",
        "colab": {
          "base_uri": "https://localhost:8080/",
          "height": 51
        },
        "outputId": "6442f019-f714-4e4e-abf6-8e59a9860002"
      },
      "source": [
        "df_02['PERFIL'].unique()"
      ],
      "execution_count": 56,
      "outputs": [
        {
          "output_type": "execute_result",
          "data": {
            "text/plain": [
              "array(['EXATAS', 'HUMANAS', 'DIFICULDADE', 'MUITO_BOM', 'EXCELENTE'],\n",
              "      dtype=object)"
            ]
          },
          "metadata": {
            "tags": []
          },
          "execution_count": 56
        }
      ]
    },
    {
      "cell_type": "code",
      "metadata": {
        "id": "imjtWjmXkCG3",
        "colab_type": "code",
        "colab": {}
      },
      "source": [
        "features = [\"REPROVACOES_DE\", \"REPROVACOES_EM\", \"REPROVACOES_MF\", \"REPROVACOES_GO\",\n",
        "    \"NOTA_DE\", \"NOTA_EM\", \"NOTA_MF\", \"NOTA_GO\",\n",
        "    \"INGLES\", \"H_AULA_PRES\", \"TAREFAS_ONLINE\", \"FALTAS\"]\n",
        "\n",
        "target = [\"PERFIL\"]\n",
        "\n",
        "X = df_02[features]\n",
        "y = df_02[target]"
      ],
      "execution_count": 57,
      "outputs": []
    },
    {
      "cell_type": "code",
      "metadata": {
        "id": "Vq7-EA75lCMv",
        "colab_type": "code",
        "colab": {
          "base_uri": "https://localhost:8080/",
          "height": 255
        },
        "outputId": "274d9443-023d-4432-9487-12386f4d5744"
      },
      "source": [
        "X.head()"
      ],
      "execution_count": 58,
      "outputs": [
        {
          "output_type": "execute_result",
          "data": {
            "text/html": [
              "<div>\n",
              "<style scoped>\n",
              "    .dataframe tbody tr th:only-of-type {\n",
              "        vertical-align: middle;\n",
              "    }\n",
              "\n",
              "    .dataframe tbody tr th {\n",
              "        vertical-align: top;\n",
              "    }\n",
              "\n",
              "    .dataframe thead th {\n",
              "        text-align: right;\n",
              "    }\n",
              "</style>\n",
              "<table border=\"1\" class=\"dataframe\">\n",
              "  <thead>\n",
              "    <tr style=\"text-align: right;\">\n",
              "      <th></th>\n",
              "      <th>REPROVACOES_DE</th>\n",
              "      <th>REPROVACOES_EM</th>\n",
              "      <th>REPROVACOES_MF</th>\n",
              "      <th>REPROVACOES_GO</th>\n",
              "      <th>NOTA_DE</th>\n",
              "      <th>NOTA_EM</th>\n",
              "      <th>NOTA_MF</th>\n",
              "      <th>NOTA_GO</th>\n",
              "      <th>INGLES</th>\n",
              "      <th>H_AULA_PRES</th>\n",
              "      <th>TAREFAS_ONLINE</th>\n",
              "      <th>FALTAS</th>\n",
              "    </tr>\n",
              "    <tr>\n",
              "      <th>MATRICULA</th>\n",
              "      <th></th>\n",
              "      <th></th>\n",
              "      <th></th>\n",
              "      <th></th>\n",
              "      <th></th>\n",
              "      <th></th>\n",
              "      <th></th>\n",
              "      <th></th>\n",
              "      <th></th>\n",
              "      <th></th>\n",
              "      <th></th>\n",
              "      <th></th>\n",
              "    </tr>\n",
              "  </thead>\n",
              "  <tbody>\n",
              "    <tr>\n",
              "      <th>502375</th>\n",
              "      <td>0</td>\n",
              "      <td>0</td>\n",
              "      <td>0</td>\n",
              "      <td>0</td>\n",
              "      <td>6.2</td>\n",
              "      <td>5.8</td>\n",
              "      <td>4.6</td>\n",
              "      <td>5.9</td>\n",
              "      <td>0.0</td>\n",
              "      <td>2</td>\n",
              "      <td>4</td>\n",
              "      <td>3</td>\n",
              "    </tr>\n",
              "    <tr>\n",
              "      <th>397093</th>\n",
              "      <td>0</td>\n",
              "      <td>0</td>\n",
              "      <td>0</td>\n",
              "      <td>0</td>\n",
              "      <td>6.0</td>\n",
              "      <td>6.2</td>\n",
              "      <td>5.2</td>\n",
              "      <td>4.5</td>\n",
              "      <td>1.0</td>\n",
              "      <td>2</td>\n",
              "      <td>4</td>\n",
              "      <td>3</td>\n",
              "    </tr>\n",
              "    <tr>\n",
              "      <th>915288</th>\n",
              "      <td>0</td>\n",
              "      <td>0</td>\n",
              "      <td>0</td>\n",
              "      <td>0</td>\n",
              "      <td>7.3</td>\n",
              "      <td>6.7</td>\n",
              "      <td>7.1</td>\n",
              "      <td>7.2</td>\n",
              "      <td>0.0</td>\n",
              "      <td>5</td>\n",
              "      <td>0</td>\n",
              "      <td>3</td>\n",
              "    </tr>\n",
              "    <tr>\n",
              "      <th>192652</th>\n",
              "      <td>1</td>\n",
              "      <td>3</td>\n",
              "      <td>1</td>\n",
              "      <td>1</td>\n",
              "      <td>0.0</td>\n",
              "      <td>0.0</td>\n",
              "      <td>0.0</td>\n",
              "      <td>0.0</td>\n",
              "      <td>1.0</td>\n",
              "      <td>4</td>\n",
              "      <td>4</td>\n",
              "      <td>4</td>\n",
              "    </tr>\n",
              "    <tr>\n",
              "      <th>949491</th>\n",
              "      <td>1</td>\n",
              "      <td>3</td>\n",
              "      <td>1</td>\n",
              "      <td>1</td>\n",
              "      <td>0.0</td>\n",
              "      <td>0.0</td>\n",
              "      <td>0.0</td>\n",
              "      <td>0.0</td>\n",
              "      <td>1.0</td>\n",
              "      <td>5</td>\n",
              "      <td>2</td>\n",
              "      <td>5</td>\n",
              "    </tr>\n",
              "  </tbody>\n",
              "</table>\n",
              "</div>"
            ],
            "text/plain": [
              "           REPROVACOES_DE  REPROVACOES_EM  ...  TAREFAS_ONLINE  FALTAS\n",
              "MATRICULA                                  ...                        \n",
              "502375                  0               0  ...               4       3\n",
              "397093                  0               0  ...               4       3\n",
              "915288                  0               0  ...               0       3\n",
              "192652                  1               3  ...               4       4\n",
              "949491                  1               3  ...               2       5\n",
              "\n",
              "[5 rows x 12 columns]"
            ]
          },
          "metadata": {
            "tags": []
          },
          "execution_count": 58
        }
      ]
    },
    {
      "cell_type": "code",
      "metadata": {
        "id": "qzjEzerylEB-",
        "colab_type": "code",
        "colab": {
          "base_uri": "https://localhost:8080/",
          "height": 235
        },
        "outputId": "13c440de-3740-4a3b-968f-75361166025a"
      },
      "source": [
        "y.head()"
      ],
      "execution_count": 59,
      "outputs": [
        {
          "output_type": "execute_result",
          "data": {
            "text/html": [
              "<div>\n",
              "<style scoped>\n",
              "    .dataframe tbody tr th:only-of-type {\n",
              "        vertical-align: middle;\n",
              "    }\n",
              "\n",
              "    .dataframe tbody tr th {\n",
              "        vertical-align: top;\n",
              "    }\n",
              "\n",
              "    .dataframe thead th {\n",
              "        text-align: right;\n",
              "    }\n",
              "</style>\n",
              "<table border=\"1\" class=\"dataframe\">\n",
              "  <thead>\n",
              "    <tr style=\"text-align: right;\">\n",
              "      <th></th>\n",
              "      <th>PERFIL</th>\n",
              "    </tr>\n",
              "    <tr>\n",
              "      <th>MATRICULA</th>\n",
              "      <th></th>\n",
              "    </tr>\n",
              "  </thead>\n",
              "  <tbody>\n",
              "    <tr>\n",
              "      <th>502375</th>\n",
              "      <td>EXATAS</td>\n",
              "    </tr>\n",
              "    <tr>\n",
              "      <th>397093</th>\n",
              "      <td>EXATAS</td>\n",
              "    </tr>\n",
              "    <tr>\n",
              "      <th>915288</th>\n",
              "      <td>HUMANAS</td>\n",
              "    </tr>\n",
              "    <tr>\n",
              "      <th>192652</th>\n",
              "      <td>DIFICULDADE</td>\n",
              "    </tr>\n",
              "    <tr>\n",
              "      <th>949491</th>\n",
              "      <td>DIFICULDADE</td>\n",
              "    </tr>\n",
              "  </tbody>\n",
              "</table>\n",
              "</div>"
            ],
            "text/plain": [
              "                PERFIL\n",
              "MATRICULA             \n",
              "502375          EXATAS\n",
              "397093          EXATAS\n",
              "915288         HUMANAS\n",
              "192652     DIFICULDADE\n",
              "949491     DIFICULDADE"
            ]
          },
          "metadata": {
            "tags": []
          },
          "execution_count": 59
        }
      ]
    },
    {
      "cell_type": "code",
      "metadata": {
        "id": "3Om9MPZJl6DH",
        "colab_type": "code",
        "colab": {}
      },
      "source": [
        "from sklearn.model_selection import train_test_split"
      ],
      "execution_count": 61,
      "outputs": []
    },
    {
      "cell_type": "code",
      "metadata": {
        "id": "mcj4uXXhlNo6",
        "colab_type": "code",
        "colab": {}
      },
      "source": [
        "# cj de treino e teste\n",
        "X_train, X_test, y_train, y_test = train_test_split(X, y, test_size=0.3, random_state=337)"
      ],
      "execution_count": 62,
      "outputs": []
    },
    {
      "cell_type": "markdown",
      "metadata": {
        "id": "nzrFpSDQmuH5",
        "colab_type": "text"
      },
      "source": [
        "### Testando novo modelo com Random Forest"
      ]
    },
    {
      "cell_type": "code",
      "metadata": {
        "id": "4fShG8nPnQdP",
        "colab_type": "code",
        "colab": {}
      },
      "source": [
        "from sklearn.metrics import accuracy_score"
      ],
      "execution_count": 72,
      "outputs": []
    },
    {
      "cell_type": "markdown",
      "metadata": {
        "id": "Tjs0qQYanT-k",
        "colab_type": "text"
      },
      "source": [
        "### Testando novo modelo com Random Forest"
      ]
    },
    {
      "cell_type": "code",
      "metadata": {
        "id": "b-emfNxTnRha",
        "colab_type": "code",
        "colab": {}
      },
      "source": [
        "from sklearn.feature_selection import RFECV\n",
        "from sklearn.ensemble import RandomForestClassifier\n",
        "\n",
        "rfe = RFECV(estimator=RandomForestClassifier())"
      ],
      "execution_count": 73,
      "outputs": []
    },
    {
      "cell_type": "code",
      "metadata": {
        "id": "qP9nXutanXEu",
        "colab_type": "code",
        "colab": {
          "base_uri": "https://localhost:8080/",
          "height": 292
        },
        "outputId": "89a68946-a137-4596-dd89-12d70ab57172"
      },
      "source": [
        "rfe.fit(X,y)"
      ],
      "execution_count": 75,
      "outputs": [
        {
          "output_type": "stream",
          "text": [
            "/usr/local/lib/python3.6/dist-packages/sklearn/utils/validation.py:760: DataConversionWarning: A column-vector y was passed when a 1d array was expected. Please change the shape of y to (n_samples, ), for example using ravel().\n",
            "  y = column_or_1d(y, warn=True)\n"
          ],
          "name": "stderr"
        },
        {
          "output_type": "execute_result",
          "data": {
            "text/plain": [
              "RFECV(cv=None,\n",
              "      estimator=RandomForestClassifier(bootstrap=True, ccp_alpha=0.0,\n",
              "                                       class_weight=None, criterion='gini',\n",
              "                                       max_depth=None, max_features='auto',\n",
              "                                       max_leaf_nodes=None, max_samples=None,\n",
              "                                       min_impurity_decrease=0.0,\n",
              "                                       min_impurity_split=None,\n",
              "                                       min_samples_leaf=1, min_samples_split=2,\n",
              "                                       min_weight_fraction_leaf=0.0,\n",
              "                                       n_estimators=100, n_jobs=None,\n",
              "                                       oob_score=False, random_state=None,\n",
              "                                       verbose=0, warm_start=False),\n",
              "      min_features_to_select=1, n_jobs=None, scoring=None, step=1, verbose=0)"
            ]
          },
          "metadata": {
            "tags": []
          },
          "execution_count": 75
        }
      ]
    },
    {
      "cell_type": "code",
      "metadata": {
        "id": "-pB3EfIunbuZ",
        "colab_type": "code",
        "colab": {
          "base_uri": "https://localhost:8080/",
          "height": 34
        },
        "outputId": "2944b709-b5b9-42a9-a7ab-00cf9382a9ea"
      },
      "source": [
        "rfe.n_features_"
      ],
      "execution_count": 76,
      "outputs": [
        {
          "output_type": "execute_result",
          "data": {
            "text/plain": [
              "8"
            ]
          },
          "metadata": {
            "tags": []
          },
          "execution_count": 76
        }
      ]
    },
    {
      "cell_type": "code",
      "metadata": {
        "id": "pJhdPtlRojGw",
        "colab_type": "code",
        "colab": {
          "base_uri": "https://localhost:8080/",
          "height": 421
        },
        "outputId": "f9ca92fb-96b7-4b14-861f-5ad7c23d54a4"
      },
      "source": [
        "colunas = pd.DataFrame({'coluna':X.columns,\n",
        "                       'bool': rfe.support_})\n",
        "colunas"
      ],
      "execution_count": 77,
      "outputs": [
        {
          "output_type": "execute_result",
          "data": {
            "text/html": [
              "<div>\n",
              "<style scoped>\n",
              "    .dataframe tbody tr th:only-of-type {\n",
              "        vertical-align: middle;\n",
              "    }\n",
              "\n",
              "    .dataframe tbody tr th {\n",
              "        vertical-align: top;\n",
              "    }\n",
              "\n",
              "    .dataframe thead th {\n",
              "        text-align: right;\n",
              "    }\n",
              "</style>\n",
              "<table border=\"1\" class=\"dataframe\">\n",
              "  <thead>\n",
              "    <tr style=\"text-align: right;\">\n",
              "      <th></th>\n",
              "      <th>coluna</th>\n",
              "      <th>bool</th>\n",
              "    </tr>\n",
              "  </thead>\n",
              "  <tbody>\n",
              "    <tr>\n",
              "      <th>0</th>\n",
              "      <td>REPROVACOES_DE</td>\n",
              "      <td>False</td>\n",
              "    </tr>\n",
              "    <tr>\n",
              "      <th>1</th>\n",
              "      <td>REPROVACOES_EM</td>\n",
              "      <td>False</td>\n",
              "    </tr>\n",
              "    <tr>\n",
              "      <th>2</th>\n",
              "      <td>REPROVACOES_MF</td>\n",
              "      <td>True</td>\n",
              "    </tr>\n",
              "    <tr>\n",
              "      <th>3</th>\n",
              "      <td>REPROVACOES_GO</td>\n",
              "      <td>True</td>\n",
              "    </tr>\n",
              "    <tr>\n",
              "      <th>4</th>\n",
              "      <td>NOTA_DE</td>\n",
              "      <td>True</td>\n",
              "    </tr>\n",
              "    <tr>\n",
              "      <th>5</th>\n",
              "      <td>NOTA_EM</td>\n",
              "      <td>True</td>\n",
              "    </tr>\n",
              "    <tr>\n",
              "      <th>6</th>\n",
              "      <td>NOTA_MF</td>\n",
              "      <td>True</td>\n",
              "    </tr>\n",
              "    <tr>\n",
              "      <th>7</th>\n",
              "      <td>NOTA_GO</td>\n",
              "      <td>True</td>\n",
              "    </tr>\n",
              "    <tr>\n",
              "      <th>8</th>\n",
              "      <td>INGLES</td>\n",
              "      <td>False</td>\n",
              "    </tr>\n",
              "    <tr>\n",
              "      <th>9</th>\n",
              "      <td>H_AULA_PRES</td>\n",
              "      <td>True</td>\n",
              "    </tr>\n",
              "    <tr>\n",
              "      <th>10</th>\n",
              "      <td>TAREFAS_ONLINE</td>\n",
              "      <td>True</td>\n",
              "    </tr>\n",
              "    <tr>\n",
              "      <th>11</th>\n",
              "      <td>FALTAS</td>\n",
              "      <td>False</td>\n",
              "    </tr>\n",
              "  </tbody>\n",
              "</table>\n",
              "</div>"
            ],
            "text/plain": [
              "            coluna   bool\n",
              "0   REPROVACOES_DE  False\n",
              "1   REPROVACOES_EM  False\n",
              "2   REPROVACOES_MF   True\n",
              "3   REPROVACOES_GO   True\n",
              "4          NOTA_DE   True\n",
              "5          NOTA_EM   True\n",
              "6          NOTA_MF   True\n",
              "7          NOTA_GO   True\n",
              "8           INGLES  False\n",
              "9      H_AULA_PRES   True\n",
              "10  TAREFAS_ONLINE   True\n",
              "11          FALTAS  False"
            ]
          },
          "metadata": {
            "tags": []
          },
          "execution_count": 77
        }
      ]
    },
    {
      "cell_type": "code",
      "metadata": {
        "id": "sCCFZe0Bok3_",
        "colab_type": "code",
        "colab": {
          "base_uri": "https://localhost:8080/",
          "height": 153
        },
        "outputId": "57478199-f9ea-4d3d-e527-27303f5ef292"
      },
      "source": [
        "features01 = list(colunas.query('bool == True').coluna)\n",
        "features01"
      ],
      "execution_count": 78,
      "outputs": [
        {
          "output_type": "execute_result",
          "data": {
            "text/plain": [
              "['REPROVACOES_MF',\n",
              " 'REPROVACOES_GO',\n",
              " 'NOTA_DE',\n",
              " 'NOTA_EM',\n",
              " 'NOTA_MF',\n",
              " 'NOTA_GO',\n",
              " 'H_AULA_PRES',\n",
              " 'TAREFAS_ONLINE']"
            ]
          },
          "metadata": {
            "tags": []
          },
          "execution_count": 78
        }
      ]
    },
    {
      "cell_type": "code",
      "metadata": {
        "id": "AoyX0amQomzX",
        "colab_type": "code",
        "colab": {}
      },
      "source": [
        "X_train = X[features01]"
      ],
      "execution_count": 79,
      "outputs": []
    },
    {
      "cell_type": "code",
      "metadata": {
        "id": "9JF_3y1Krka_",
        "colab_type": "code",
        "colab": {}
      },
      "source": [
        "X_train, X_test, y_train, y_test = train_test_split(X, y, random_state=337)"
      ],
      "execution_count": 82,
      "outputs": []
    },
    {
      "cell_type": "code",
      "metadata": {
        "id": "RUYQoQz1opcd",
        "colab_type": "code",
        "colab": {}
      },
      "source": [
        "md_01 = RandomForestClassifier()"
      ],
      "execution_count": 83,
      "outputs": []
    },
    {
      "cell_type": "code",
      "metadata": {
        "id": "Gbr-ZBjlouMP",
        "colab_type": "code",
        "colab": {
          "base_uri": "https://localhost:8080/",
          "height": 207
        },
        "outputId": "7327e794-cddc-4c72-9fb3-63750eb29b96"
      },
      "source": [
        "md_01.fit(X_train, y_train)"
      ],
      "execution_count": 84,
      "outputs": [
        {
          "output_type": "stream",
          "text": [
            "/usr/local/lib/python3.6/dist-packages/ipykernel_launcher.py:1: DataConversionWarning: A column-vector y was passed when a 1d array was expected. Please change the shape of y to (n_samples,), for example using ravel().\n",
            "  \"\"\"Entry point for launching an IPython kernel.\n"
          ],
          "name": "stderr"
        },
        {
          "output_type": "execute_result",
          "data": {
            "text/plain": [
              "RandomForestClassifier(bootstrap=True, ccp_alpha=0.0, class_weight=None,\n",
              "                       criterion='gini', max_depth=None, max_features='auto',\n",
              "                       max_leaf_nodes=None, max_samples=None,\n",
              "                       min_impurity_decrease=0.0, min_impurity_split=None,\n",
              "                       min_samples_leaf=1, min_samples_split=2,\n",
              "                       min_weight_fraction_leaf=0.0, n_estimators=100,\n",
              "                       n_jobs=None, oob_score=False, random_state=None,\n",
              "                       verbose=0, warm_start=False)"
            ]
          },
          "metadata": {
            "tags": []
          },
          "execution_count": 84
        }
      ]
    },
    {
      "cell_type": "code",
      "metadata": {
        "id": "vVYuNIrFowR8",
        "colab_type": "code",
        "colab": {}
      },
      "source": [
        "prev_01 = md_01.predict(X_test)"
      ],
      "execution_count": 85,
      "outputs": []
    },
    {
      "cell_type": "code",
      "metadata": {
        "id": "W47O9-9wrxW9",
        "colab_type": "code",
        "colab": {
          "base_uri": "https://localhost:8080/",
          "height": 34
        },
        "outputId": "4db96f77-5ac3-4a30-8bda-09f8b48d24c7"
      },
      "source": [
        "print(\"Acurácia: {}%\".format(100*round(accuracy_score(y_test, prev_01), 2)))"
      ],
      "execution_count": 86,
      "outputs": [
        {
          "output_type": "stream",
          "text": [
            "Acurácia: 81.0%\n"
          ],
          "name": "stdout"
        }
      ]
    },
    {
      "cell_type": "markdown",
      "metadata": {
        "id": "SIDHoKZJr17Y",
        "colab_type": "text"
      },
      "source": [
        "### Testando modelo com EXtra Trees Classifier\n"
      ]
    },
    {
      "cell_type": "code",
      "metadata": {
        "id": "D6aUfI5UrynM",
        "colab_type": "code",
        "colab": {}
      },
      "source": [
        "from sklearn.ensemble import ExtraTreesClassifier\n",
        "\n",
        "md_02 = ExtraTreesClassifier(random_state=337)"
      ],
      "execution_count": 87,
      "outputs": []
    },
    {
      "cell_type": "code",
      "metadata": {
        "id": "3Pm7Pm3dr6Dh",
        "colab_type": "code",
        "colab": {
          "base_uri": "https://localhost:8080/",
          "height": 207
        },
        "outputId": "ef39d1c6-1c09-4d41-9d8d-c4dafd9ed289"
      },
      "source": [
        "md_02.fit(X_train, y_train)"
      ],
      "execution_count": 88,
      "outputs": [
        {
          "output_type": "stream",
          "text": [
            "/usr/local/lib/python3.6/dist-packages/ipykernel_launcher.py:1: DataConversionWarning: A column-vector y was passed when a 1d array was expected. Please change the shape of y to (n_samples,), for example using ravel().\n",
            "  \"\"\"Entry point for launching an IPython kernel.\n"
          ],
          "name": "stderr"
        },
        {
          "output_type": "execute_result",
          "data": {
            "text/plain": [
              "ExtraTreesClassifier(bootstrap=False, ccp_alpha=0.0, class_weight=None,\n",
              "                     criterion='gini', max_depth=None, max_features='auto',\n",
              "                     max_leaf_nodes=None, max_samples=None,\n",
              "                     min_impurity_decrease=0.0, min_impurity_split=None,\n",
              "                     min_samples_leaf=1, min_samples_split=2,\n",
              "                     min_weight_fraction_leaf=0.0, n_estimators=100,\n",
              "                     n_jobs=None, oob_score=False, random_state=337, verbose=0,\n",
              "                     warm_start=False)"
            ]
          },
          "metadata": {
            "tags": []
          },
          "execution_count": 88
        }
      ]
    },
    {
      "cell_type": "code",
      "metadata": {
        "id": "zdOfyVgBr7mw",
        "colab_type": "code",
        "colab": {}
      },
      "source": [
        "prev_02 = md_02.predict(X_test)"
      ],
      "execution_count": 89,
      "outputs": []
    },
    {
      "cell_type": "code",
      "metadata": {
        "id": "mNeZD2PJr9KZ",
        "colab_type": "code",
        "colab": {
          "base_uri": "https://localhost:8080/",
          "height": 34
        },
        "outputId": "6a9161bd-3bf7-4ad8-b621-ca7ec08e0281"
      },
      "source": [
        "print(\"Acurácia: {}%\".format(100*round(accuracy_score(y_test, prev_02), 2)))"
      ],
      "execution_count": 90,
      "outputs": [
        {
          "output_type": "stream",
          "text": [
            "Acurácia: 80.0%\n"
          ],
          "name": "stdout"
        }
      ]
    },
    {
      "cell_type": "markdown",
      "metadata": {
        "id": "RUplDNtysAvM",
        "colab_type": "text"
      },
      "source": [
        "### Testando modelo com Gradient Boostin"
      ]
    },
    {
      "cell_type": "code",
      "metadata": {
        "id": "eSxYMvxHsBn2",
        "colab_type": "code",
        "colab": {}
      },
      "source": [
        "from sklearn.ensemble import GradientBoostingClassifier"
      ],
      "execution_count": 91,
      "outputs": []
    },
    {
      "cell_type": "code",
      "metadata": {
        "id": "bDod3pbRr-fL",
        "colab_type": "code",
        "colab": {}
      },
      "source": [
        "md_03 = GradientBoostingClassifier()"
      ],
      "execution_count": 93,
      "outputs": []
    },
    {
      "cell_type": "code",
      "metadata": {
        "id": "N3zRTmeBsG_t",
        "colab_type": "code",
        "colab": {
          "base_uri": "https://localhost:8080/",
          "height": 241
        },
        "outputId": "c5e1b5e0-137a-47af-a92d-5f90747eadc3"
      },
      "source": [
        "md_03.fit(X_train, y_train)"
      ],
      "execution_count": 94,
      "outputs": [
        {
          "output_type": "stream",
          "text": [
            "/usr/local/lib/python3.6/dist-packages/sklearn/ensemble/_gb.py:1454: DataConversionWarning: A column-vector y was passed when a 1d array was expected. Please change the shape of y to (n_samples, ), for example using ravel().\n",
            "  y = column_or_1d(y, warn=True)\n"
          ],
          "name": "stderr"
        },
        {
          "output_type": "execute_result",
          "data": {
            "text/plain": [
              "GradientBoostingClassifier(ccp_alpha=0.0, criterion='friedman_mse', init=None,\n",
              "                           learning_rate=0.1, loss='deviance', max_depth=3,\n",
              "                           max_features=None, max_leaf_nodes=None,\n",
              "                           min_impurity_decrease=0.0, min_impurity_split=None,\n",
              "                           min_samples_leaf=1, min_samples_split=2,\n",
              "                           min_weight_fraction_leaf=0.0, n_estimators=100,\n",
              "                           n_iter_no_change=None, presort='deprecated',\n",
              "                           random_state=None, subsample=1.0, tol=0.0001,\n",
              "                           validation_fraction=0.1, verbose=0,\n",
              "                           warm_start=False)"
            ]
          },
          "metadata": {
            "tags": []
          },
          "execution_count": 94
        }
      ]
    },
    {
      "cell_type": "code",
      "metadata": {
        "id": "RTv-Z735sLs4",
        "colab_type": "code",
        "colab": {}
      },
      "source": [
        "prev_03 = md_03.predict(X_test)"
      ],
      "execution_count": 95,
      "outputs": []
    },
    {
      "cell_type": "code",
      "metadata": {
        "id": "cP1McwXwsNRV",
        "colab_type": "code",
        "colab": {
          "base_uri": "https://localhost:8080/",
          "height": 34
        },
        "outputId": "48866ed1-e6ab-44dd-efed-68b9809e9d91"
      },
      "source": [
        "print(\"Acurácia: {}%\".format(100*round(accuracy_score(y_test, prev_03), 2)))"
      ],
      "execution_count": 96,
      "outputs": [
        {
          "output_type": "stream",
          "text": [
            "Acurácia: 81.0%\n"
          ],
          "name": "stdout"
        }
      ]
    },
    {
      "cell_type": "code",
      "metadata": {
        "id": "Utp3U_cFsPe3",
        "colab_type": "code",
        "colab": {}
      },
      "source": [
        ""
      ],
      "execution_count": null,
      "outputs": []
    }
  ]
}